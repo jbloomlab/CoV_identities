{
 "cells": [
  {
   "cell_type": "markdown",
   "id": "ef668f6a-6c11-40cd-94ec-f416f5eccbbd",
   "metadata": {},
   "source": [
    "# Compute and plot identities from alignment\n",
    "\n",
    "Import Python modules:"
   ]
  },
  {
   "cell_type": "code",
   "execution_count": null,
   "id": "f9c48bfd-4a77-458f-b933-b15e1b407aaf",
   "metadata": {
    "tags": []
   },
   "outputs": [],
   "source": [
    "import itertools\n",
    "import os\n",
    "\n",
    "import altair as alt\n",
    "\n",
    "import Bio.SeqIO\n",
    "\n",
    "import pandas as pd\n",
    "\n",
    "import yaml\n",
    "\n",
    "_ = alt.data_transformers.disable_max_rows()"
   ]
  },
  {
   "cell_type": "markdown",
   "id": "4e0da924-ddea-4d29-81a9-fc3b142a244a",
   "metadata": {},
   "source": [
    "Get variables from `snakemake`:"
   ]
  },
  {
   "cell_type": "code",
   "execution_count": null,
   "id": "982cca0e-1fd2-462d-85b0-e08960a7ff2f",
   "metadata": {
    "tags": []
   },
   "outputs": [],
   "source": [
    "if \"snakemake\" in globals() or \"snakemake\" in locals():\n",
    "    # from snakemake\n",
    "    inputfasta = snakemake.input.fasta\n",
    "    chartfile = snakemake.output.chart\n",
    "    csvfile = snakemake.output.csv\n",
    "    alignment_ref = snakemake.params.alignment_ref\n",
    "    ref_regions = snakemake.params.ref_regions\n",
    "    viruses = snakemake.params.viruses\n",
    "else:\n",
    "    # manually define for running interactively\n",
    "    inputfasta = \"../results/viruses/all_viruses_aligned.fasta\"\n",
    "    chartfile = \"../results/identities/identities.html\"\n",
    "    csvfile = \"../results/identities/identities.csv\"\n",
    "    with open(\"../config.yaml\") as f:\n",
    "        config = yaml.safe_load(f)\n",
    "    alignment_ref = config[\"alignment_ref\"]\n",
    "    ref_regions = config[\"ref_regions\"]\n",
    "    viruses = config[\"viruses\"]"
   ]
  },
  {
   "cell_type": "markdown",
   "id": "3f63768a-f814-4982-b6ac-415e2f5dfa4b",
   "metadata": {},
   "source": [
    "Get list of all viruses and their accessions or URLs:"
   ]
  },
  {
   "cell_type": "code",
   "execution_count": null,
   "id": "a576dd16-8d0a-497b-b498-846dbaaf3eef",
   "metadata": {
    "tags": []
   },
   "outputs": [],
   "source": [
    "accessions = {\n",
    "    virus: acc\n",
    "    for db, db_dict in viruses.items()\n",
    "    for virus, acc in db_dict.items()\n",
    "}\n",
    "\n",
    "accessions"
   ]
  },
  {
   "cell_type": "markdown",
   "id": "bf81ebbe-1189-472d-b9dc-863b3d710aec",
   "metadata": {},
   "source": [
    "Read alignment:"
   ]
  },
  {
   "cell_type": "code",
   "execution_count": null,
   "id": "68178ffe-2c44-4ed9-a4ee-f32b490e9c51",
   "metadata": {
    "tags": []
   },
   "outputs": [],
   "source": [
    "alignment = {s.id: str(s.seq) for s in Bio.SeqIO.parse(inputfasta, \"fasta\")}"
   ]
  },
  {
   "cell_type": "markdown",
   "id": "bfcf7b19-d506-4ccb-a7bc-11914ca2a434",
   "metadata": {},
   "source": [
    "Get reference to alignment numbering (1-based):"
   ]
  },
  {
   "cell_type": "code",
   "execution_count": null,
   "id": "d033fc43-bd8d-4173-9438-2031001a1d76",
   "metadata": {
    "tags": []
   },
   "outputs": [],
   "source": [
    "alignment_to_ref_numbering = {}\n",
    "i_ref = 0\n",
    "for i_alignment, nt in enumerate(alignment[alignment_ref], start=1):\n",
    "    if nt != \"-\":\n",
    "        i_ref += 1\n",
    "    alignment_to_ref_numbering[i_alignment] = i_ref\n",
    "    \n",
    "ref_to_alignment_numbering = {y:x for x, y in alignment_to_ref_numbering.items()}"
   ]
  },
  {
   "cell_type": "markdown",
   "id": "da05f20a-c98f-4573-ada9-b951f2731f90",
   "metadata": {
    "execution": {
     "iopub.execute_input": "2023-01-11T00:28:33.546479Z",
     "iopub.status.busy": "2023-01-11T00:28:33.545996Z",
     "iopub.status.idle": "2023-01-11T00:28:33.582561Z",
     "shell.execute_reply": "2023-01-11T00:28:33.581940Z",
     "shell.execute_reply.started": "2023-01-11T00:28:33.546433Z"
    }
   },
   "source": [
    "Compute identities for each gene:"
   ]
  },
  {
   "cell_type": "code",
   "execution_count": null,
   "id": "9941acae-9cd3-4195-b207-b73abdf9535e",
   "metadata": {
    "tags": []
   },
   "outputs": [],
   "source": [
    "records = []\n",
    "for gene, (start, end) in ref_regions.items():\n",
    "    for i, virus_1 in enumerate(alignment):\n",
    "        seq_1 = alignment[virus_1][start - 1: end]\n",
    "        for virus_2 in list(alignment)[i: ]:\n",
    "            seq_2 = alignment[virus_2][start - 1: end]\n",
    "            ident = n_w_gaps = n_no_gaps = 0\n",
    "            for nt1, nt2 in zip(seq_1, seq_2):\n",
    "                if nt1 == nt2 == \"-\":\n",
    "                    pass\n",
    "                elif (nt1 == \"-\") or (nt2 == \"-\"):\n",
    "                    n_w_gaps += 1\n",
    "                elif nt1 == nt2:\n",
    "                    ident += 1\n",
    "                    n_no_gaps += 1\n",
    "                    n_w_gaps += 1\n",
    "                else:\n",
    "                    n_no_gaps += 1\n",
    "                    n_w_gaps += 1\n",
    "            records.append((gene, virus_1, virus_2, ident, n_no_gaps, n_w_gaps))\n",
    "            if virus_1 != virus_2:\n",
    "                records.append((gene, virus_2, virus_1, ident, n_no_gaps, n_w_gaps))\n",
    "        \n",
    "df = (\n",
    "    pd.DataFrame(\n",
    "        records,\n",
    "        columns=[\n",
    "            \"gene\",\n",
    "            \"virus_1\",\n",
    "            \"virus_2\",\n",
    "            \"n identities\",\n",
    "            \"no\",\n",
    "            \"yes\",\n",
    "        ],\n",
    "    )\n",
    "    .melt(\n",
    "        id_vars=[\"gene\", \"virus_1\", \"virus_2\", \"n identities\"],\n",
    "        value_vars=[\"no\", \"yes\"],\n",
    "        var_name=\"count gaps as mismatches\",\n",
    "        value_name=\"n sites\",\n",
    "    )\n",
    "    .query(\"`n sites` > 0\")\n",
    "    .assign(\n",
    "        percent_identity=lambda x: 100 * x[\"n identities\"] / x[\"n sites\"],\n",
    "        virus_1_accession=lambda x: x[\"virus_1\"].map(accessions),\n",
    "        virus_2_accession=lambda x: x[\"virus_2\"].map(accessions),\n",
    "    )\n",
    ")\n",
    "\n",
    "print(f\"Writing identites to {csvfile}\")\n",
    "\n",
    "os.makedirs(os.path.dirname(csvfile), exist_ok=True)\n",
    "df.to_csv(csvfile, index=False, float_format=\"%.5g\")\n",
    "\n",
    "df"
   ]
  },
  {
   "cell_type": "markdown",
   "id": "06a06b31-0fca-4e9b-87af-580815ae96f3",
   "metadata": {},
   "source": [
    "Make plot:"
   ]
  },
  {
   "cell_type": "code",
   "execution_count": null,
   "id": "959d966c-611d-4b54-9016-855b1e2ac30d",
   "metadata": {
    "tags": []
   },
   "outputs": [],
   "source": [
    "gene_selection = alt.selection_single(\n",
    "    fields=[\"gene\"],\n",
    "    bind=alt.binding_select(name=\"gene\", options=list(ref_regions)),\n",
    "    init={\"gene\": \"spike\"},\n",
    ")\n",
    "\n",
    "gaps_selection = alt.selection_single(\n",
    "    fields=[\"count gaps as mismatches\"],\n",
    "    bind=alt.binding_radio(\n",
    "        name=\"count gaps as mismatches\",\n",
    "        options=df[\"count gaps as mismatches\"].unique().tolist(),\n",
    "    ),\n",
    "    init={\"count gaps as mismatches\": \"no\"},\n",
    ")\n",
    "\n",
    "w_respect_selection = alt.selection_single(\n",
    "    fields=[\"focal\"],\n",
    "    name=\"w_respect_selection\",\n",
    "    bind=alt.binding_select(\n",
    "        name=\"highlight identities with respect to\",\n",
    "        options=sorted(set(df[\"virus_1\"]).union(set(df[\"virus_2\"]))),\n",
    "    ),\n",
    "    init={\"focal\": alignment_ref},\n",
    ")\n",
    "\n",
    "base_heatmap = (\n",
    "    alt.Chart(df)\n",
    "    .transform_filter(gene_selection)\n",
    "    .transform_filter(gaps_selection)\n",
    "    .transform_calculate(\n",
    "        is_focal_1=\"datum.virus_1 == w_respect_selection.focal\",\n",
    "        is_focal_2=\"datum.virus_2 == w_respect_selection.focal\",\n",
    "        ident_to_focal_1=alt.expr.if_(\n",
    "            alt.datum[\"is_focal_2\"],\n",
    "            alt.datum[\"percent_identity\"],\n",
    "            0,\n",
    "        ),\n",
    "        ident_to_focal_2=alt.expr.if_(\n",
    "            alt.datum[\"is_focal_1\"],\n",
    "            alt.datum[\"percent_identity\"],\n",
    "            0,\n",
    "        ),\n",
    "        is_focal=alt.datum[\"is_focal_1\"] | alt.datum[\"is_focal_2\"],\n",
    "    )\n",
    "    .transform_joinaggregate(\n",
    "        ident_to_focal_1=\"max(ident_to_focal_1)\",\n",
    "        groupby=[\"virus_1\"],\n",
    "    )\n",
    "    .transform_joinaggregate(\n",
    "        ident_to_focal_2=\"max(ident_to_focal_2)\",\n",
    "        groupby=[\"virus_2\"],\n",
    "    )\n",
    "    .encode(\n",
    "        x=alt.X(\"virus_1\", title=None, sort=alt.SortField(\"ident_to_focal_1\", order=\"descending\")),\n",
    "        y=alt.Y(\"virus_2\", title=None, sort=alt.SortField(\"ident_to_focal_2\", order=\"descending\")),\n",
    "        tooltip=[\n",
    "            alt.Tooltip(c, format=\".2f\") if df[c].dtype == float else c for c in df.columns\n",
    "        ],\n",
    "        strokeWidth=alt.condition(alt.datum[\"is_focal\"], alt.value(2), alt.value(0.5)),\n",
    "        strokeOpacity=alt.condition(alt.datum[\"is_focal\"], alt.value(1), alt.value(0.4)),\n",
    "    )\n",
    "    .properties(width=alt.Step(20), height=alt.Step(20))\n",
    ")\n",
    "\n",
    "heatmap = (\n",
    "    base_heatmap\n",
    "    .encode(fill=alt.Fill(\"percent_identity\", title=None))\n",
    "    .mark_rect(stroke=\"black\")\n",
    ")\n",
    "\n",
    "text = (\n",
    "    base_heatmap\n",
    "    .encode(\n",
    "        text=alt.Text(\"percent_identity\", format=\".3g\"),\n",
    "    )\n",
    "    .mark_text(color=\"gray\", size=8)\n",
    ")\n",
    "\n",
    "chart = (\n",
    "    (heatmap + text)\n",
    "    .add_selection(gene_selection)\n",
    "    .add_selection(gaps_selection)\n",
    "    .add_selection(w_respect_selection)\n",
    ")\n",
    "\n",
    "chart.save(chartfile)\n",
    "\n",
    "chart"
   ]
  },
  {
   "cell_type": "code",
   "execution_count": null,
   "id": "895d7919-273f-47e0-b113-60670a84ec41",
   "metadata": {},
   "outputs": [],
   "source": []
  }
 ],
 "metadata": {
  "kernelspec": {
   "display_name": "Python 3 (ipykernel)",
   "language": "python",
   "name": "python3"
  },
  "language_info": {
   "codemirror_mode": {
    "name": "ipython",
    "version": 3
   },
   "file_extension": ".py",
   "mimetype": "text/x-python",
   "name": "python",
   "nbconvert_exporter": "python",
   "pygments_lexer": "ipython3",
   "version": "3.9.15"
  }
 },
 "nbformat": 4,
 "nbformat_minor": 5
}
